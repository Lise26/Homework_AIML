{
 "cells": [
  {
   "cell_type": "markdown",
   "metadata": {},
   "source": [
    "# SETUP\n",
    "\n",
    "The following blocks are to be executed first of anything else, to setup import, classes, functions and constants that are needed for all stages"
   ]
  },
  {
   "cell_type": "code",
   "execution_count": 17,
   "metadata": {
    "ExecuteTime": {
     "end_time": "2020-06-04T21:46:49.141532Z",
     "start_time": "2020-06-04T21:46:49.131261Z"
    }
   },
   "outputs": [],
   "source": [
    "import os\n",
    "import logging\n",
    "\n",
    "import torch\n",
    "import torch.nn as nn\n",
    "import torch.nn.functional as F\n",
    "import torch.optim as optim\n",
    "from torch.utils.data import DataLoader\n",
    "from torch.backends import cudnn\n",
    "\n",
    "import torchvision\n",
    "from torchvision import transforms\n",
    "from torchvision.models import resnet34\n",
    "\n",
    "from PIL import Image\n",
    "from tqdm import tqdm\n",
    "\n",
    "from logs import Logger, generate_model_checkpoint_name, generate_log_filenames\n",
    "\n",
    "from gtea_dataset import GTEA61, GTEA61_flow, GTEA61_2Stream\n",
    "from attention_model_MS_reg import attention_model_ms_reg\n",
    "from flow_resnet import flow_resnet34\n",
    "from twoStreamModel import twoStreamAttentionModel\n",
    "from spatial_transforms import (Compose, ToTensor, CenterCrop, Scale, Normalize, MultiScaleCornerCrop,\n",
    "                                RandomHorizontalFlip, DownSampling, To1Dimension)"
   ]
  },
  {
   "cell_type": "code",
   "execution_count": 18,
   "metadata": {
    "ExecuteTime": {
     "end_time": "2020-06-04T21:46:49.941799Z",
     "start_time": "2020-06-04T21:46:49.938220Z"
    }
   },
   "outputs": [],
   "source": [
    "DEVICE = 'cuda' # 'cuda' or 'cpu'\n",
    "NUM_CLASSES = 61 # 101 + 1: There is am extra Background class that should be removed \n",
    "\n",
    "BATCH_SIZE = 1     # Higher batch sizes allows for larger learning rates. An empirical heuristic suggests that, when changing\n",
    "                     # the batch size, learning rate should change by the same factor to have comparable results\n",
    "\n",
    "RGB_PREFIX = 'model_rgb_state_dict'\n",
    "FLOW_PREFIX = 'model_flow_state_dict'\n",
    "JOINT_PREFIX = 'model_twoStream_state_dict'\n",
    "LOG_PREFIX = 'log_stage'\n",
    "VAL_LOG_PREFIX = 'val_log_stage'\n",
    "DATA_DIR = '../GTEA61'\n",
    "model_folder = '../saved_models'"
   ]
  },
  {
   "cell_type": "code",
   "execution_count": 19,
   "metadata": {
    "ExecuteTime": {
     "end_time": "2020-06-04T21:46:51.387437Z",
     "start_time": "2020-06-04T21:46:51.378293Z"
    }
   },
   "outputs": [],
   "source": [
    "from sklearn.metrics import confusion_matrix\n",
    "import matplotlib.pyplot as plt\n",
    "import numpy as np\n",
    "\n",
    "def plot_confusion_matrix(true, predicted):\n",
    "    true = torch.cat(true, dim=0)\n",
    "    predicted =[p.to('cpu') for p in  predicted]\n",
    "    predicted = torch.cat(predicted, dim=0) \n",
    "    cnf_matrix = confusion_matrix(true, predicted, normalize='true').astype(float)\n",
    "\n",
    "    ticks = np.linspace(0, 60, num=61)\n",
    "    plt.figure(figsize=(8,8))\n",
    "    plt.imshow(cnf_matrix, interpolation='none', cmap='binary')\n",
    "    plt.colorbar()\n",
    "    plt.xticks(ticks, fontsize=6)\n",
    "    plt.yticks(ticks, fontsize=6)\n",
    "    plt.grid(True)\n",
    "    plt.clim(0, 1)\n",
    "    plt.show()\n",
    "\n",
    "    \n",
    "def generate_model_checkpoint_name(stage, n_frames, ms_block=False, loss=None, optional=''):\n",
    "    name = \"\"\n",
    "    if stage < 3:\n",
    "        name += RGB_PREFIX\n",
    "        if stage == 2:\n",
    "            name += '_stage2'\n",
    "    elif stage == 3:\n",
    "        name += FLOW_PREFIX\n",
    "    else:\n",
    "        name += JOINT_PREFIX\n",
    "    name += '_'+str(n_frames)+'frames'\n",
    "    if loss is not None:\n",
    "            name += '_'+loss\n",
    "    if ms_block:\n",
    "        name += '_msblock'\n",
    "    name += optional+\".pth\"\n",
    "    \n",
    "    return name"
   ]
  },
  {
   "cell_type": "code",
   "execution_count": 20,
   "metadata": {
    "ExecuteTime": {
     "end_time": "2020-06-04T21:46:53.160693Z",
     "start_time": "2020-06-04T21:46:53.157185Z"
    }
   },
   "outputs": [],
   "source": [
    "# Data loader\n",
    "normalize = Normalize(mean=[0.485, 0.456, 0.406], std=[0.229, 0.224, 0.225])\n",
    "\n",
    "val_transform = Compose([Scale(256), CenterCrop(224), ToTensor(), normalize])"
   ]
  },
  {
   "cell_type": "markdown",
   "metadata": {},
   "source": [
    "# ConvLSTM+attent+MS reg specific setup"
   ]
  },
  {
   "cell_type": "code",
   "execution_count": 21,
   "metadata": {
    "ExecuteTime": {
     "end_time": "2020-06-04T21:47:00.134059Z",
     "start_time": "2020-06-04T21:47:00.130515Z"
    }
   },
   "outputs": [],
   "source": [
    "STAGE = 2\n",
    "\n",
    "MEM_SIZE = 512\n",
    "SEQ_LEN = 7"
   ]
  },
  {
   "cell_type": "code",
   "execution_count": 22,
   "metadata": {
    "ExecuteTime": {
     "end_time": "2020-06-04T21:47:01.883607Z",
     "start_time": "2020-06-04T21:47:01.697776Z"
    }
   },
   "outputs": [
    {
     "name": "stdout",
     "output_type": "stream",
     "text": [
      "Test Dataset: 116\n"
     ]
    }
   ],
   "source": [
    "# Prepare Pytorch train/test Datasets\n",
    "test_dataset = GTEA61(DATA_DIR, split='test', transform=val_transform, seq_len=SEQ_LEN)\n",
    "\n",
    "#print('Valid Dataset: {}'.format(len(val_dataset)))\n",
    "print('Test Dataset: {}'.format(len(test_dataset)))"
   ]
  },
  {
   "cell_type": "code",
   "execution_count": 23,
   "metadata": {
    "ExecuteTime": {
     "end_time": "2020-06-04T21:47:02.700226Z",
     "start_time": "2020-06-04T21:47:02.697316Z"
    }
   },
   "outputs": [],
   "source": [
    "# Dataloaders iterate over pytorch datasets and transparently provide useful functions (e.g.\n",
    "test_loader = DataLoader(test_dataset, batch_size=BATCH_SIZE, shuffle=False, num_workers=4)"
   ]
  },
  {
   "cell_type": "markdown",
   "metadata": {},
   "source": [
    "# Prepare eval ConvLSTM+attent+MS reg"
   ]
  },
  {
   "cell_type": "code",
   "execution_count": 25,
   "metadata": {
    "ExecuteTime": {
     "end_time": "2020-06-04T21:47:31.677237Z",
     "start_time": "2020-06-04T21:47:31.667966Z"
    }
   },
   "outputs": [
    {
     "data": {
      "text/plain": [
       "'model_rgb_state_dict_7frames_msblock.pth'"
      ]
     },
     "execution_count": 25,
     "metadata": {},
     "output_type": "execute_result"
    }
   ],
   "source": [
    "generate_model_checkpoint_name(stage=STAGE-1, n_frames=SEQ_LEN, ms_block = True)"
   ]
  },
  {
   "cell_type": "code",
   "execution_count": 28,
   "metadata": {
    "ExecuteTime": {
     "end_time": "2020-06-04T21:48:38.329621Z",
     "start_time": "2020-06-04T21:48:37.045739Z"
    }
   },
   "outputs": [],
   "source": [
    "best_model_file = generate_model_checkpoint_name(stage=STAGE-1, n_frames=SEQ_LEN, ms_block = True)\n",
    "best_model = os.path.join(model_folder, best_model_file)\n",
    "model = attention_model_ms_reg(num_classes=NUM_CLASSES, mem_size=MEM_SIZE)\n",
    "model.load_state_dict(torch.load(best_model))\n",
    "\n",
    "for params in model.parameters():\n",
    "    params.requires_grad = False\n",
    "\n",
    "model.train(False)\n",
    "model.to(DEVICE)\n",
    "test_samples = len(test_dataset)"
   ]
  },
  {
   "cell_type": "markdown",
   "metadata": {
    "ExecuteTime": {
     "end_time": "2020-06-04T17:21:02.966265Z",
     "start_time": "2020-06-04T17:21:02.962786Z"
    }
   },
   "source": [
    "# ConvLSTM+attent+MS reg evaluation"
   ]
  },
  {
   "cell_type": "code",
   "execution_count": 29,
   "metadata": {
    "ExecuteTime": {
     "end_time": "2020-06-04T21:50:00.249721Z",
     "start_time": "2020-06-04T21:48:55.220830Z"
    }
   },
   "outputs": [
    {
     "name": "stdout",
     "output_type": "stream",
     "text": [
      "Number of samples = 116\n",
      "Evaluating...\n",
      "Test Accuracy = 0.862%\n"
     ]
    },
    {
     "data": {
      "image/png": "[encoded data removed]",
      "text/plain": [
       "<Figure size 576x576 with 2 Axes>"
      ]
     },
     "metadata": {
      "needs_background": "light"
     },
     "output_type": "display_data"
    }
   ],
   "source": [
    "print('Number of samples = {}'.format(test_samples))\n",
    "print('Evaluating...')\n",
    "numCorr = 0\n",
    "true_labels = []\n",
    "predicted_labels = []\n",
    "\n",
    "for inputs, targets in test_loader:\n",
    "    inputVariable = inputs.permute(1, 0, 2, 3, 4).to(DEVICE)\n",
    "    labelVariable = targets.to(DEVICE)\n",
    "    \n",
    "    output_label, _ = model(inputVariable)\n",
    "    _, predicted = torch.max(output_label.data, 1)\n",
    "    numCorr += torch.sum(predicted == labelVariable.data).data.item()\n",
    "    # store results in a list to plot confusion matrix later\n",
    "    true_labels.append(targets)\n",
    "    predicted_labels.append(predicted)\n",
    "                \n",
    "test_accuracy = (numCorr / test_samples) * 100\n",
    "print('Test Accuracy = {:.3f}%'.format(test_accuracy))\n",
    "plot_confusion_matrix(true_labels, predicted_labels)"
   ]
  }
 ],
 "metadata": {
  "kernelspec": {
   "display_name": "Python 3",
   "language": "python",
   "name": "python3"
  },
  "language_info": {
   "codemirror_mode": {
    "name": "ipython",
    "version": 3
   },
   "file_extension": ".py",
   "mimetype": "text/x-python",
   "name": "python",
   "nbconvert_exporter": "python",
   "pygments_lexer": "ipython3",
   "version": "3.8.2"
  }
 },
 "nbformat": 4,
 "nbformat_minor": 4
}
