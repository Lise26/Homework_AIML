{
 "cells": [
  {
   "cell_type": "markdown",
   "metadata": {},
   "source": [
    "# SETUP\n",
    "The following blocks are to be executed first of anything else, to setup import, classes, functions and \n",
    "constants that are needed for all stages"
   ]
  },
  {
   "cell_type": "code",
   "execution_count": 4,
   "metadata": {
    "ExecuteTime": {
     "end_time": "2020-05-31T15:45:17.498467Z",
     "start_time": "2020-05-31T15:45:16.492033Z"
    }
   },
   "outputs": [],
   "source": [
    "import os\n",
    "import logging\n",
    "\n",
    "import torch\n",
    "import torch.nn as nn\n",
    "import torch.nn.functional as F\n",
    "import torch.optim as optim\n",
    "from torch.utils.data import DataLoader\n",
    "from torch.backends import cudnn\n",
    "\n",
    "import torchvision\n",
    "from torchvision import transforms\n",
    "from torchvision.models import resnet34\n",
    "\n",
    "from PIL import Image\n",
    "from tqdm import tqdm\n",
    "\n",
    "from gtea_dataset import GTEA61, GTEA61_flow, GTEA61_2Stream\n",
    "from objectAttentionModelConvLSTM import attentionModel\n",
    "from flow_resnet import flow_resnet34\n",
    "from twoStreamModel import twoStreamAttentionModel\n",
    "from spatial_transforms import (Compose, ToTensor, CenterCrop, Scale, Normalize, MultiScaleCornerCrop,\n",
    "                                RandomHorizontalFlip)"
   ]
  },
  {
   "cell_type": "code",
   "execution_count": 5,
   "metadata": {
    "ExecuteTime": {
     "end_time": "2020-05-31T15:45:17.505266Z",
     "start_time": "2020-05-31T15:45:17.500160Z"
    }
   },
   "outputs": [],
   "source": [
    "DEVICE = 'cuda' # 'cuda' or 'cpu'\n",
    "NUM_CLASSES = 61 # 101 + 1: There is am extra Background class that should be removed \n",
    "\n",
    "BATCH_SIZE = 1     # Higher batch sizes allows for larger learning rates. An empirical heuristic suggests that, when changing\n",
    "                     # the batch size, learning rate should change by the same factor to have comparable results\n",
    "\n",
    "RGB_PREFIX = 'model_rgb_state_dict'\n",
    "FLOW_PREFIX = 'model_flow_state_dict'\n",
    "JOINT_PREFIX = 'model_twoStream_state_dict'\n",
    "LOG_PREFIX = 'log_stage'\n",
    "VAL_LOG_PREFIX = 'val_log_stage'\n",
    "DATA_DIR = '../GTEA61'\n",
    "model_folder = '../saved_models'"
   ]
  },
  {
   "cell_type": "code",
   "execution_count": 13,
   "metadata": {
    "ExecuteTime": {
     "end_time": "2020-05-31T15:48:45.562942Z",
     "start_time": "2020-05-31T15:48:45.551955Z"
    }
   },
   "outputs": [],
   "source": [
    "from sklearn.metrics import confusion_matrix\n",
    "import matplotlib.pyplot as plt\n",
    "import numpy as np\n",
    "\n",
    "def plot_confusion_matrix(true, predicted):\n",
    "    true = torch.cat(true, dim=0)\n",
    "    predicted =[p.to('cpu') for p in  predicted]\n",
    "    predicted = torch.cat(predicted, dim=0) \n",
    "    cnf_matrix = confusion_matrix(true, predicted, normalize='true').astype(float)\n",
    "\n",
    "    ticks = np.linspace(0, 60, num=61)\n",
    "    plt.figure(figsize=(8,8))\n",
    "    plt.imshow(cnf_matrix, interpolation='none', cmap='binary')\n",
    "    plt.colorbar()\n",
    "    plt.xticks(ticks, fontsize=6)\n",
    "    plt.yticks(ticks, fontsize=6)\n",
    "    plt.grid(True)\n",
    "    plt.clim(0, 1)\n",
    "    plt.show()\n",
    "\n",
    "    \n",
    "def generate_model_checkpoint_name(stage, n_frames, ms_block=False, loss=None, optional=''):\n",
    "    name = \"\"\n",
    "    if stage < 3:\n",
    "        name += RGB_PREFIX\n",
    "        if stage == 2:\n",
    "            name += '_stage2'\n",
    "    elif stage == 3:\n",
    "        name += FLOW_PREFIX\n",
    "    else:\n",
    "        name += JOINT_PREFIX\n",
    "    name += '_'+str(n_frames)+'frames'\n",
    "    if loss is not None:\n",
    "            name += '_'+loss\n",
    "    if ms_block:\n",
    "        name += '_msblock'\n",
    "    name += optional+\".pth\"\n",
    "    \n",
    "    return name"
   ]
  },
  {
   "cell_type": "code",
   "execution_count": 11,
   "metadata": {
    "ExecuteTime": {
     "end_time": "2020-05-30T18:58:00.602609Z",
     "start_time": "2020-05-30T18:58:00.599031Z"
    }
   },
   "outputs": [],
   "source": [
    "# Data loader\n",
    "normalize = Normalize(mean=[0.485, 0.456, 0.406], std=[0.229, 0.224, 0.225])\n",
    "\n",
    "val_transform = Compose([Scale(256), CenterCrop(224), ToTensor(), normalize])"
   ]
  },
  {
   "cell_type": "markdown",
   "metadata": {},
   "source": [
    "# ConvLSTM specific-setup"
   ]
  },
  {
   "cell_type": "code",
   "execution_count": 2,
   "metadata": {
    "ExecuteTime": {
     "end_time": "2020-05-31T15:45:10.041227Z",
     "start_time": "2020-05-31T15:45:10.034344Z"
    }
   },
   "outputs": [],
   "source": [
    "STAGE = 0\n",
    "\n",
    "MEM_SIZE = 512\n",
    "SEQ_LEN = 7"
   ]
  },
  {
   "cell_type": "code",
   "execution_count": null,
   "metadata": {},
   "outputs": [],
   "source": [
    "# Prepare Pytorch train/test Datasets\n",
    "test_dataset = GTEA61(DATA_DIR, split='test', transform=val_transform, seq_len=SEQ_LEN)\n",
    "\n",
    "#print('Valid Dataset: {}'.format(len(val_dataset)))\n",
    "print('Test Dataset: {}'.format(len(test_dataset)))"
   ]
  },
  {
   "cell_type": "code",
   "execution_count": null,
   "metadata": {},
   "outputs": [],
   "source": [
    "# Dataloaders iterate over pytorch datasets and transparently provide useful functions (e.g.\n",
    "test_loader = DataLoader(test_dataset, batch_size=BATCH_SIZE, shuffle=False, num_workers=4)"
   ]
  },
  {
   "cell_type": "markdown",
   "metadata": {},
   "source": [
    "# Prepare evaluation for ConvLSTM"
   ]
  },
  {
   "cell_type": "code",
   "execution_count": 6,
   "metadata": {
    "ExecuteTime": {
     "end_time": "2020-05-28T14:50:44.084333Z",
     "start_time": "2020-05-28T14:50:40.913444Z"
    }
   },
   "outputs": [],
   "source": [
    "best_model_file = generate_model_checkpoint_name(STAGE, SEQ_LEN, optional='_2_NOCAM')\n",
    "best_model = os.path.join(model_folder, best_model_file)\n",
    "model = attentionModel(num_classes=NUM_CLASSES, mem_size=MEM_SIZE)\n",
    "model.load_state_dict(torch.load(best_model))\n",
    "\n",
    "for params in model.parameters():\n",
    "    params.requires_grad = False\n",
    "\n",
    "model.train(False)\n",
    "model.to(DEVICE)\n",
    "test_samples = len(test_dataset)"
   ]
  },
  {
   "cell_type": "markdown",
   "metadata": {},
   "source": [
    "# ConvLSTM evaluation"
   ]
  },
  {
   "cell_type": "code",
   "execution_count": 9,
   "metadata": {
    "ExecuteTime": {
     "end_time": "2020-05-28T14:54:55.739330Z",
     "start_time": "2020-05-28T14:54:33.283341Z"
    }
   },
   "outputs": [
    {
     "name": "stdout",
     "output_type": "stream",
     "text": [
      "Number of samples = 116\n",
      "Evaluating...\n",
      "Test Accuracy = 0.000%\n"
     ]
    }
   ],
   "source": [
    "print('Number of samples = {}'.format(test_samples))\n",
    "print('Evaluating...')\n",
    "numCorr = 0\n",
    "\n",
    "true_labels = []\n",
    "predicted_labels = []\n",
    "for inputs, targets in test_loader:\n",
    "    inputVariable = inputs.permute(1, 0, 2, 3, 4).to(DEVICE)\n",
    "    labelVariable = targets.to(DEVICE)\n",
    "    \n",
    "    output_label, _ = model(inputVariable, no_cam=True)\n",
    "    _, predicted = torch.max(output_label.data, 1)\n",
    "    numCorr += torch.sum(predicted == labelVariable.data).data.item()\n",
    "    # store results in a list to plot confusion matrix later\n",
    "    true_labels.append(targets)\n",
    "    predicted_labels.append(predicted)\n",
    "                \n",
    "test_accuracy = (numCorr / test_samples) * 100\n",
    "print('Test Accuracy = {:.3f}%'.format(test_accuracy))\n",
    "plot_confusion_matrix(true_labels, predicted_labels)"
   ]
  },
  {
   "cell_type": "markdown",
   "metadata": {
    "ExecuteTime": {
     "end_time": "2020-05-30T19:00:55.178103Z",
     "start_time": "2020-05-30T19:00:55.175461Z"
    }
   },
   "source": [
    "# ConvLSTM + attention specific-setup"
   ]
  },
  {
   "cell_type": "code",
   "execution_count": 15,
   "metadata": {
    "ExecuteTime": {
     "end_time": "2020-05-31T15:49:05.864543Z",
     "start_time": "2020-05-31T15:49:05.859357Z"
    }
   },
   "outputs": [],
   "source": [
    "STAGE = 2\n",
    "\n",
    "MEM_SIZE = 512\n",
    "SEQ_LEN = 7"
   ]
  },
  {
   "cell_type": "code",
   "execution_count": null,
   "metadata": {},
   "outputs": [],
   "source": [
    "# Prepare Pytorch train/test Datasets\n",
    "test_dataset = GTEA61(DATA_DIR, split='test', transform=val_transform, seq_len=SEQ_LEN)\n",
    "\n",
    "#print('Valid Dataset: {}'.format(len(val_dataset)))\n",
    "print('Test Dataset: {}'.format(len(test_dataset)))"
   ]
  },
  {
   "cell_type": "code",
   "execution_count": null,
   "metadata": {},
   "outputs": [],
   "source": [
    "# Dataloaders iterate over pytorch datasets and transparently provide useful functions (e.g.\n",
    "test_loader = DataLoader(test_dataset, batch_size=BATCH_SIZE, shuffle=False, num_workers=4)"
   ]
  },
  {
   "cell_type": "markdown",
   "metadata": {},
   "source": [
    "# Prepare evaluation for ConvLSTM + attention"
   ]
  },
  {
   "cell_type": "code",
   "execution_count": null,
   "metadata": {},
   "outputs": [],
   "source": [
    "best_model_file = generate_model_checkpoint_name(STAGE, SEQ_LEN)\n",
    "best_model = os.path.join(model_folder, best_model_file)\n",
    "model = attentionModel(num_classes=NUM_CLASSES, mem_size=MEM_SIZE)\n",
    "model.load_state_dict(torch.load(best_model))\n",
    "\n",
    "for params in model.parameters():\n",
    "    params.requires_grad = False\n",
    "\n",
    "model.train(False)\n",
    "model.to(DEVICE)\n",
    "test_samples = len(test_dataset)"
   ]
  },
  {
   "cell_type": "markdown",
   "metadata": {},
   "source": [
    "# ConvLSTM + attention evaluation"
   ]
  },
  {
   "cell_type": "code",
   "execution_count": null,
   "metadata": {},
   "outputs": [],
   "source": [
    "print('Number of samples = {}'.format(test_samples))\n",
    "print('Evaluating...')\n",
    "numCorr = 0\n",
    "true_labels = []\n",
    "predicted_labels = []\n",
    "\n",
    "for inputs, targets in test_loader:\n",
    "    inputVariable = inputs.permute(1, 0, 2, 3, 4).to(DEVICE)\n",
    "    labelVariable = targets.to(DEVICE)\n",
    "    \n",
    "    output_label, _ = model(inputVariable, no_cam=False)\n",
    "    _, predicted = torch.max(output_label.data, 1)\n",
    "    numCorr += torch.sum(predicted == labelVariable.data).data.item()\n",
    "    # store results in a list to plot confusion matrix later\n",
    "    true_labels.append(targets)\n",
    "    predicted_labels.append(predicted)\n",
    "                \n",
    "test_accuracy = (numCorr / test_samples) * 100\n",
    "print('Test Accuracy = {:.3f}%'.format(test_accuracy))\n",
    "plot_confusion_matrix(true_labels, predicted_labels)"
   ]
  },
  {
   "cell_type": "markdown",
   "metadata": {},
   "source": [
    "# Temporal network specific-setup"
   ]
  },
  {
   "cell_type": "code",
   "execution_count": 19,
   "metadata": {
    "ExecuteTime": {
     "end_time": "2020-05-31T15:49:37.385610Z",
     "start_time": "2020-05-31T15:49:37.383227Z"
    }
   },
   "outputs": [],
   "source": [
    "STAGE = 3\n",
    "\n",
    "NUM_SEGMENTS = 5\n",
    "STACK_SIZE = 5"
   ]
  },
  {
   "cell_type": "code",
   "execution_count": 21,
   "metadata": {
    "ExecuteTime": {
     "end_time": "2020-05-30T19:02:50.552335Z",
     "start_time": "2020-05-30T19:02:50.297121Z"
    }
   },
   "outputs": [
    {
     "name": "stdout",
     "output_type": "stream",
     "text": [
      "Test Dataset: 116\n"
     ]
    }
   ],
   "source": [
    "# Prepare Pytorch train/test Datasets\n",
    "test_dataset = GTEA61_flow(DATA_DIR, split='test', transform=val_transform, seq_len=STACK_SIZE, n_seq=NUM_SEGMENTS)\n",
    "\n",
    "print('Test Dataset: {}'.format(len(test_dataset)))"
   ]
  },
  {
   "cell_type": "code",
   "execution_count": 7,
   "metadata": {
    "ExecuteTime": {
     "end_time": "2020-05-30T13:01:00.827339Z",
     "start_time": "2020-05-30T13:01:00.824699Z"
    }
   },
   "outputs": [],
   "source": [
    "# Dataloaders iterate over pytorch datasets and transparently provide useful functions (e.g.\n",
    "test_loader = DataLoader(test_dataset, batch_size=BATCH_SIZE, shuffle=False, num_workers=4)"
   ]
  },
  {
   "cell_type": "markdown",
   "metadata": {},
   "source": [
    "# Prepare for flow evaluation"
   ]
  },
  {
   "cell_type": "code",
   "execution_count": 8,
   "metadata": {
    "ExecuteTime": {
     "end_time": "2020-05-30T13:01:07.669065Z",
     "start_time": "2020-05-30T13:01:03.720570Z"
    }
   },
   "outputs": [],
   "source": [
    "best_model_file = generate_model_checkpoint_name(STAGE, STACK_SIZE)\n",
    "best_model = os.path.join(model_folder, best_model_file)\n",
    "model = flow_resnet34(False, channels=2*STACK_SIZE, num_classes=NUM_CLASSES)\n",
    "model.load_state_dict(torch.load(best_model))\n",
    "\n",
    "for params in model.parameters():\n",
    "    params.requires_grad = False\n",
    "\n",
    "model.train(False)\n",
    "model.to(DEVICE)\n",
    "test_samples = len(test_dataset)"
   ]
  },
  {
   "cell_type": "markdown",
   "metadata": {},
   "source": [
    "# Flow evaluation"
   ]
  },
  {
   "cell_type": "code",
   "execution_count": 9,
   "metadata": {
    "ExecuteTime": {
     "end_time": "2020-05-30T13:01:37.231845Z",
     "start_time": "2020-05-30T13:01:10.278789Z"
    }
   },
   "outputs": [
    {
     "name": "stdout",
     "output_type": "stream",
     "text": [
      "Number of samples = 116\n",
      "Evaluating...\n",
      "Test Accuracy  = 1.7241379310344827%\n"
     ]
    },
    {
     "data": {
      "image/png": "[encoded data removed]",
      "text/plain": [
       "<Figure size 576x576 with 2 Axes>"
      ]
     },
     "metadata": {
      "needs_background": "light"
     },
     "output_type": "display_data"
    }
   ],
   "source": [
    "print('Number of samples = {}'.format(test_samples))\n",
    "print('Evaluating...')\n",
    "numCorr = 0\n",
    "true_labels = []\n",
    "predicted_labels = []\n",
    "\n",
    "for j, (inputs, targets) in enumerate(test_loader):\n",
    "    # since batch size=1, we remove first dimension\n",
    "    inputVariable = inputs[0].to(DEVICE)\n",
    "    labelVariable = targets[0].to(DEVICE)\n",
    "    output_label, _ = model(inputVariable)\n",
    "    # average over the n_seq different sequences\n",
    "    output_label_mean = torch.mean(output_label.data, 0, True)\n",
    "    \n",
    "    _, predicted = torch.max(output_label_mean, 1)\n",
    "    numCorr += torch.sum(predicted == labelVariable.data).data.item()\n",
    "    # store results in a list to plot confusion matrix later\n",
    "    true_labels.append(targets)\n",
    "    predicted_labels.append(predicted)\n",
    "    \n",
    "test_accuracy = (numCorr / test_samples) * 100\n",
    "print('Test Accuracy  = {}%'.format(test_accuracy))\n",
    "plot_confusion_matrix(true_labels, predicted_labels)"
   ]
  },
  {
   "cell_type": "markdown",
   "metadata": {},
   "source": [
    "# 2 stream specific setup"
   ]
  },
  {
   "cell_type": "code",
   "execution_count": 22,
   "metadata": {
    "ExecuteTime": {
     "end_time": "2020-05-30T19:04:00.155636Z",
     "start_time": "2020-05-30T19:04:00.149986Z"
    }
   },
   "outputs": [],
   "source": [
    "STAGE = 4\n",
    "\n",
    "NUM_SEGMENTS = 5\n",
    "STACK_SIZE = 5\n",
    "SEQ_LEN = 7\n",
    "MEM_SIZE = 512"
   ]
  },
  {
   "cell_type": "code",
   "execution_count": 16,
   "metadata": {
    "ExecuteTime": {
     "end_time": "2020-05-28T16:57:26.007998Z",
     "start_time": "2020-05-28T16:57:25.922356Z"
    }
   },
   "outputs": [
    {
     "name": "stdout",
     "output_type": "stream",
     "text": [
      "Test Dataset: 116\n"
     ]
    }
   ],
   "source": [
    "# Prepare Pytorch train/test Datasets\n",
    "test_dataset = GTEA61_2Stream(DATA_DIR, split='test', transform=val_transform, seq_len=SEQ_LEN, stack_size=STACK_SIZE)\n",
    "\n",
    "print('Test Dataset: {}'.format(len(test_dataset)))"
   ]
  },
  {
   "cell_type": "code",
   "execution_count": 17,
   "metadata": {
    "ExecuteTime": {
     "end_time": "2020-05-28T16:57:26.489710Z",
     "start_time": "2020-05-28T16:57:26.484071Z"
    }
   },
   "outputs": [],
   "source": [
    "# Dataloaders iterate over pytorch datasets and transparently provide useful functions (e.g.\n",
    "test_loader = DataLoader(test_dataset, batch_size=BATCH_SIZE, shuffle=False, num_workers=4)"
   ]
  },
  {
   "cell_type": "markdown",
   "metadata": {},
   "source": [
    "# Prepare for 2-stream joint-evaluation"
   ]
  },
  {
   "cell_type": "code",
   "execution_count": 20,
   "metadata": {
    "ExecuteTime": {
     "end_time": "2020-05-28T17:08:59.694975Z",
     "start_time": "2020-05-28T17:08:57.840324Z"
    }
   },
   "outputs": [],
   "source": [
    "best_model_file = generate_model_checkpoint_name(STAGE, SEQ_LEN)\n",
    "best_model = os.path.join(model_folder, best_model_file)\n",
    "model = twoStreamAttentionModel(stackSize=STACK_SIZE, memSize=MEM_SIZE, num_classes=NUM_CLASSES)\n",
    "model.load_state_dict(torch.load(best_model))\n",
    "\n",
    "for params in model.parameters():\n",
    "    params.requires_grad = False\n",
    "\n",
    "model.train(False)\n",
    "model.to(DEVICE)\n",
    "\n",
    "test_samples = len(test_dataset)"
   ]
  },
  {
   "cell_type": "markdown",
   "metadata": {},
   "source": [
    "# 2 stream joint-evaluation"
   ]
  },
  {
   "cell_type": "code",
   "execution_count": 22,
   "metadata": {
    "ExecuteTime": {
     "end_time": "2020-05-28T17:10:24.143307Z",
     "start_time": "2020-05-28T17:09:13.157090Z"
    }
   },
   "outputs": [
    {
     "name": "stdout",
     "output_type": "stream",
     "text": [
      "Number of samples = 116\n",
      "Evaluating...\n",
      "Accuracy 1.724%\n"
     ]
    },
    {
     "data": {
      "image/png": "[encoded data removed]",
      "text/plain": [
       "<Figure size 576x576 with 2 Axes>"
      ]
     },
     "metadata": {
      "needs_background": "light"
     },
     "output_type": "display_data"
    }
   ],
   "source": [
    "print('Number of samples = {}'.format(test_samples))\n",
    "print('Evaluating...')\n",
    "\n",
    "numCorrTwoStream = 0\n",
    "predicted_labels = []\n",
    "true_labels = []\n",
    "\n",
    "for inputFlow, inputFrame, targets in test_loader:\n",
    "    inputVariableFlow = inputFlow.to(DEVICE)\n",
    "    inputVariableFrame = inputFrame.permute(1, 0, 2, 3, 4).to(DEVICE)\n",
    "    labelVariable = targets.to(DEVICE)\n",
    "        \n",
    "    output_label = model(inputVariableFlow, inputVariableFrame)\n",
    "    _, predictedTwoStream = torch.max(output_label.data, 1)\n",
    "    numCorrTwoStream += torch.sum(predictedTwoStream == labelVariable.data).data.item()\n",
    "    # store results in a list to plot confusion matrix later\n",
    "    predicted_labels.append(predictedTwoStream)\n",
    "    true_labels.append(targets)\n",
    "\n",
    "test_accuracyTwoStream = (numCorrTwoStream / test_samples) * 100\n",
    "\n",
    "print('Accuracy {:.3f}%'.format(test_accuracyTwoStream))\n",
    "plot_confusion_matrix(true_labels, predicted_labels)"
   ]
  }
 ],
 "metadata": {
  "kernelspec": {
   "display_name": "Python 3",
   "language": "python",
   "name": "python3"
  },
  "language_info": {
   "codemirror_mode": {
    "name": "ipython",
    "version": 3
   },
   "file_extension": ".py",
   "mimetype": "text/x-python",
   "name": "python",
   "nbconvert_exporter": "python",
   "pygments_lexer": "ipython3",
   "version": "3.8.2"
  }
 },
 "nbformat": 4,
 "nbformat_minor": 4
}
